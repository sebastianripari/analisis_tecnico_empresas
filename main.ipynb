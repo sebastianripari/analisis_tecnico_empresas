{
 "cells": [
  {
   "cell_type": "markdown",
   "metadata": {},
   "source": [
    "# Analsis Tecnico"
   ]
  },
  {
   "cell_type": "markdown",
   "metadata": {},
   "source": [
    "## Medias Moviles"
   ]
  },
  {
   "cell_type": "markdown",
   "metadata": {},
   "source": [
    "Hay que poner el timeframe en 1 dia. Hay de 3 tipos:\n",
    "- Media Movil <b>Ponderada</b>: Esta no la usa nadie.\n",
    "- Media Movil <b>Simple</b>: Se abrevia <b>MA (Movil Average)</b> o <b>SMA (Simple Movil Average)</b>. Se usa la de 100 y la de 200.\n",
    "- Media Movil <b>Exponencial</b>: Se abrevia <b>EMA (Exponential Moving Average)</b>. Se usa la de 5 y 20."
   ]
  },
  {
   "cell_type": "markdown",
   "metadata": {},
   "source": [
    "<hr>"
   ]
  },
  {
   "cell_type": "markdown",
   "metadata": {},
   "source": [
    "## MACD"
   ]
  },
  {
   "cell_type": "markdown",
   "metadata": {},
   "source": [
    "Tiene 3 componentes:\n",
    "- <b>MACD</b>: Es EMA12 - EMA26.\n",
    "- <b>Signal</b>:\n",
    "- <b>Histograma</b>: Es MACD - Signal."
   ]
  },
  {
   "cell_type": "markdown",
   "metadata": {},
   "source": [
    "<img src=\"Imagenes/MACD.png\">"
   ]
  },
  {
   "cell_type": "code",
   "execution_count": null,
   "metadata": {},
   "outputs": [],
   "source": []
  }
 ],
 "metadata": {
  "kernelspec": {
   "display_name": "Python 3",
   "language": "python",
   "name": "python3"
  },
  "language_info": {
   "codemirror_mode": {
    "name": "ipython",
    "version": 3
   },
   "file_extension": ".py",
   "mimetype": "text/x-python",
   "name": "python",
   "nbconvert_exporter": "python",
   "pygments_lexer": "ipython3",
   "version": "3.7.0"
  }
 },
 "nbformat": 4,
 "nbformat_minor": 2
}
