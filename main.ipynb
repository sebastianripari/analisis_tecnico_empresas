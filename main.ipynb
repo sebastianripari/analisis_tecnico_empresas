{
 "cells": [
  {
   "cell_type": "markdown",
   "metadata": {},
   "source": [
    "# Analsis Tecnico"
   ]
  },
  {
   "cell_type": "markdown",
   "metadata": {},
   "source": [
    "<hr>"
   ]
  },
  {
   "cell_type": "markdown",
   "metadata": {},
   "source": [
    "## Canales"
   ]
  },
  {
   "cell_type": "markdown",
   "metadata": {},
   "source": [
    "<img src=\"Imagenes/canal.png\">"
   ]
  },
  {
   "cell_type": "markdown",
   "metadata": {},
   "source": [
    "<hr>"
   ]
  },
  {
   "cell_type": "markdown",
   "metadata": {},
   "source": [
    "# Resistencia"
   ]
  },
  {
   "cell_type": "markdown",
   "metadata": {},
   "source": [
    "Cuando se observa que el precio testea un mismo precio mas de una ves y no logra superarlo. Se habla de que ahi hay una resistencia. Norlmalmente cuando estas resistencias son superadas con mucho volumen el precio sube notablemente. "
   ]
  },
  {
   "cell_type": "markdown",
   "metadata": {},
   "source": [
    "<img src=\"Imagenes/resistencia.png\">"
   ]
  },
  {
   "cell_type": "markdown",
   "metadata": {},
   "source": [
    "<hr>"
   ]
  },
  {
   "cell_type": "markdown",
   "metadata": {},
   "source": [
    "# Soporte"
   ]
  },
  {
   "cell_type": "markdown",
   "metadata": {},
   "source": [
    "Lo que antes era resistencia ahora es soporte."
   ]
  },
  {
   "cell_type": "markdown",
   "metadata": {},
   "source": [
    "<img src=\"Imagenes/soporte.png\">"
   ]
  },
  {
   "cell_type": "markdown",
   "metadata": {},
   "source": [
    "<hr>"
   ]
  },
  {
   "cell_type": "markdown",
   "metadata": {},
   "source": [
    "## Medias Moviles"
   ]
  },
  {
   "cell_type": "markdown",
   "metadata": {},
   "source": [
    "Hay que poner el timeframe en 1 dia. Hay de 3 tipos:\n",
    "- Media Movil <b>Ponderada</b>: Esta no la usa nadie.\n",
    "- Media Movil <b>Simple</b>: Se abrevia <b>MA (Movil Average)</b> o <b>SMA (Simple Movil Average)</b>. Se usa la de 100 y la de 200.\n",
    "- Media Movil <b>Exponencial</b>: Se abrevia <b>EMA (Exponential Moving Average)</b>. Se usa la de 5 y 20."
   ]
  },
  {
   "cell_type": "markdown",
   "metadata": {},
   "source": [
    "<b>Observacion</b>: Las Medias Moviles sirven en tendencias, ya sea bajista o alcista, en momentos de lateralizacion cruzan el precio todo el tiempo asi que no nos sirven."
   ]
  },
  {
   "cell_type": "markdown",
   "metadata": {},
   "source": [
    "Cuando el precio cruza por arriba de la media movil esta indicando un cambio de tendencia mas al alza. En cambio cuando lo cruza por debajo esta indicando un cambio de tendencia mas a la baja."
   ]
  },
  {
   "cell_type": "markdown",
   "metadata": {},
   "source": [
    "<img src=\"Imagenes/MA200.png\">"
   ]
  },
  {
   "cell_type": "markdown",
   "metadata": {},
   "source": [
    "### Cruce de Medias Moviles"
   ]
  },
  {
   "cell_type": "markdown",
   "metadata": {},
   "source": [
    "Cuando una Media Movil mas rapida cruza a una mas lenta para arriba esto significa que el precio esta cambiando su tendencia hacia el alza, en cambio si cruza hacia abajo entonces el precio esta cambiando su tendencia a la baja."
   ]
  },
  {
   "cell_type": "markdown",
   "metadata": {},
   "source": [
    "<img src=\"Imagenes/cruce_medias_moviles.png\">"
   ]
  },
  {
   "cell_type": "markdown",
   "metadata": {},
   "source": [
    "<hr>"
   ]
  },
  {
   "cell_type": "markdown",
   "metadata": {},
   "source": [
    "## MACD (Moving Average Convergence Divergence)"
   ]
  },
  {
   "cell_type": "markdown",
   "metadata": {},
   "source": [
    "Tiene 3 componentes:\n",
    "- <b>MACD</b>: Es (EMA12 - EMA26). (La violeta).\n",
    "- <b>Signal</b>: Es EMA9 del MACD. (La roja).\n",
    "- <b>Histograma</b>: Es MACD - Signal. (Las barras negras)"
   ]
  },
  {
   "cell_type": "markdown",
   "metadata": {},
   "source": [
    "<img src=\"Imagenes/MACD.png\">"
   ]
  },
  {
   "cell_type": "markdown",
   "metadata": {},
   "source": [
    "<b>Observacion (Histograma)</b>: Cuando las barritas empiezan a achicarse lo que mayormente pasa es que continuan esa tendencia. Es raro que una ves que comiencen a achicarse luego comiencen a crecer nuevamente, esto permite anticiparnos."
   ]
  },
  {
   "cell_type": "markdown",
   "metadata": {},
   "source": [
    "<hr>"
   ]
  },
  {
   "cell_type": "markdown",
   "metadata": {},
   "source": [
    "### Interpretacion"
   ]
  },
  {
   "cell_type": "markdown",
   "metadata": {},
   "source": [
    "- Cuando la línea MACD (violeta) cruza hacia arriba la Señal (roja) se da una señal de compra.\n",
    "- Cuando la línea MACD (violeta) cruza hacia abajo la Señal (roja) se da una señal de venta."
   ]
  },
  {
   "cell_type": "markdown",
   "metadata": {},
   "source": [
    "### Divergencia"
   ]
  },
  {
   "cell_type": "markdown",
   "metadata": {},
   "source": [
    "Es cuando el precio es alcista pero el MACD es bajista."
   ]
  },
  {
   "cell_type": "markdown",
   "metadata": {},
   "source": [
    "<img src=\"Imagenes/divergencia.png\">"
   ]
  },
  {
   "cell_type": "markdown",
   "metadata": {},
   "source": [
    "### Convergencia "
   ]
  },
  {
   "cell_type": "markdown",
   "metadata": {},
   "source": [
    "Es cuando el precio tiene la misma tendencia que el MACD."
   ]
  },
  {
   "cell_type": "markdown",
   "metadata": {},
   "source": [
    "<hr>"
   ]
  },
  {
   "cell_type": "markdown",
   "metadata": {},
   "source": [
    "## RSI (Relative Strength Index)"
   ]
  },
  {
   "cell_type": "markdown",
   "metadata": {},
   "source": [
    "Muestra la fuerza del precio mediante la comparacion de los movimientos individuales."
   ]
  },
  {
   "cell_type": "markdown",
   "metadata": {},
   "source": [
    "<img src=\"Imagenes/RSI.png\">"
   ]
  },
  {
   "cell_type": "markdown",
   "metadata": {},
   "source": [
    "<hr>"
   ]
  },
  {
   "cell_type": "markdown",
   "metadata": {},
   "source": [
    "## Fibonacci"
   ]
  },
  {
   "cell_type": "markdown",
   "metadata": {},
   "source": [
    "El <b>trazado de fibonacci</b> es un metodo para detectar los lugares donde es mas probable que el precio se detenga en la caida. Los valores mas importantes son el <b>50%</b> y el <b>61.8%</b>."
   ]
  },
  {
   "cell_type": "markdown",
   "metadata": {},
   "source": [
    "Se <b>traza</b> indicando todo el recorrido al alza, primero seleccionamos donde comenzo el alza y donde termino."
   ]
  },
  {
   "cell_type": "markdown",
   "metadata": {},
   "source": [
    "A el bloque entre dos niveles de fibonacci se le denomina <b>caja de fibo</b>."
   ]
  },
  {
   "cell_type": "markdown",
   "metadata": {},
   "source": [
    "<img src=\"Imagenes/fibonacci.png\">"
   ]
  }
 ],
 "metadata": {
  "kernelspec": {
   "display_name": "Python 3",
   "language": "python",
   "name": "python3"
  },
  "language_info": {
   "codemirror_mode": {
    "name": "ipython",
    "version": 3
   },
   "file_extension": ".py",
   "mimetype": "text/x-python",
   "name": "python",
   "nbconvert_exporter": "python",
   "pygments_lexer": "ipython3",
   "version": "3.6.4"
  }
 },
 "nbformat": 4,
 "nbformat_minor": 2
}
